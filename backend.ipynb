{
 "cells": [
  {
   "cell_type": "code",
   "execution_count": 1,
   "metadata": {},
   "outputs": [
    {
     "name": "stdout",
     "output_type": "stream",
     "text": [
      "[('2021-01-01T00:00', 1.2271, 1.2272, 1.2266 , 1.22665)\n",
      " ('2021-01-01T00:01', 1.2266, 1.2266, 1.22645, 1.2265 )\n",
      " ('2021-01-01T00:02', 1.2266, 1.2267, 1.2266 , 1.2267 ) ...\n",
      " ('2024-06-17T23:58', 1.0713, 1.0715, 1.0713 , 1.0715 )\n",
      " ('2024-06-17T23:59', 1.0714, 1.0716, 1.0714 , 1.0716 )\n",
      " ('2024-06-18T00:00', 1.0716, 1.0718, 1.0716 , 1.0718 )]\n"
     ]
    }
   ],
   "source": [
    "from datetime import datetime\n",
    "import numpy as np\n",
    "import pandas as pd\n",
    "\n",
    "# Define the custom dtype for the structured array\n",
    "dtype = np.dtype([\n",
    "    ('datetime', 'datetime64[m]'),\n",
    "    ('open', 'f4'),\n",
    "    ('high', 'f4'),\n",
    "    ('low', 'f4'),\n",
    "    ('close', 'f4')\n",
    "])\n",
    "\n",
    "# Specify the file path\n",
    "file_path_eurusd = './Data/eurusd_2021to2024.csv'\n",
    "\n",
    "# Read the CSV file\n",
    "df_eurusd = pd.read_csv(file_path_eurusd)\n",
    "\n",
    "# Convert the datetime column to datetime64\n",
    "df_eurusd['datetime'] = pd.to_datetime(df_eurusd['datetime'])\n",
    "\n",
    "# Create the structured array\n",
    "data_eurusd = np.zeros(len(df_eurusd), dtype=dtype)\n",
    "\n",
    "# Fill the structured array with data from the dataframe\n",
    "data_eurusd['datetime'] = df_eurusd['datetime'].values.astype('datetime64[m]')\n",
    "data_eurusd['open'] = df_eurusd['open'].values\n",
    "data_eurusd['high'] = df_eurusd['high'].values\n",
    "data_eurusd['low'] = df_eurusd['low'].values\n",
    "data_eurusd['close'] = df_eurusd['close'].values\n",
    "\n",
    "# Now `data_eurusd` contains the structured array with the desired data\n"
   ]
  },
  {
   "cell_type": "code",
   "execution_count": 2,
   "metadata": {},
   "outputs": [],
   "source": [
    "class TradingGame:\n",
    "    def __init__(self):\n",
    "        self.cash = 10000  # Starting cash\n",
    "        self.portfolio = {}  # Dictionary to hold stocks and their quantities\n",
    "        self.stock_prices = {\n",
    "            \"AAPL\": 150.00,\n",
    "            \"GOOGL\": 2800.00,\n",
    "            \"TSLA\": 700.00\n",
    "        }\n",
    "\n",
    "    def buy_stock(self, stock, quantity=1):\n",
    "        if stock in self.stock_prices:\n",
    "            total_cost = self.stock_prices[stock] * quantity\n",
    "            if self.cash >= total_cost:\n",
    "                self.cash -= total_cost\n",
    "                if stock in self.portfolio:\n",
    "                    self.portfolio[stock] += quantity\n",
    "                else:\n",
    "                    self.portfolio[stock] = quantity\n",
    "            else:\n",
    "                print(\"Not enough cash to buy the stock\")\n",
    "        else:\n",
    "            print(\"Stock not found\")\n",
    "\n",
    "    def sell_stock(self, stock, quantity=1):\n",
    "        if stock in self.portfolio and self.portfolio[stock] >= quantity:\n",
    "            total_value = self.stock_prices[stock] * quantity\n",
    "            self.cash += total_value\n",
    "            self.portfolio[stock] -= quantity\n",
    "            if self.portfolio[stock] == 0:\n",
    "                del self.portfolio[stock]\n",
    "        else:\n",
    "            print(\"Not enough stock to sell or stock not found\")\n",
    "\n",
    "    def get_cash(self):\n",
    "        return self.cash\n",
    "\n",
    "    def get_portfolio(self):\n",
    "        return self.portfolio\n",
    "\n",
    "    def get_stock_prices(self):\n",
    "        return self.stock_prices\n",
    "    \n",
    "    def get_data(self, ticker, start_date, end_date):\n",
    "        if ticker == 'EUR/USD':\n",
    "            start_date = np.datetime64(start_date, 'm')\n",
    "            end_date = np.datetime64(end_date, 'm')\n",
    "            # Create a boolean mask\n",
    "            mask = (data_eurusd['datetime'] >= start_date) & (data_eurusd['datetime'] <= end_date)\n",
    "            return data_eurusd[mask]\n",
    "            \n"
   ]
  },
  {
   "cell_type": "code",
   "execution_count": null,
   "metadata": {},
   "outputs": [],
   "source": []
  }
 ],
 "metadata": {
  "kernelspec": {
   "display_name": "Python 3",
   "language": "python",
   "name": "python3"
  },
  "language_info": {
   "codemirror_mode": {
    "name": "ipython",
    "version": 3
   },
   "file_extension": ".py",
   "mimetype": "text/x-python",
   "name": "python",
   "nbconvert_exporter": "python",
   "pygments_lexer": "ipython3",
   "version": "3.11.7"
  }
 },
 "nbformat": 4,
 "nbformat_minor": 2
}
